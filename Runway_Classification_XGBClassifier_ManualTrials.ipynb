{
 "cells": [
  {
   "cell_type": "markdown",
   "metadata": {},
   "source": [
    "### Description:\n",
    "Here we try 5 different configurations of the XGBClassifer algorithm to find the model with the highest accuracy for predicting the `Landing_Runway` in LHR Airport."
   ]
  },
  {
   "cell_type": "code",
   "execution_count": 1,
   "metadata": {},
   "outputs": [
    {
     "data": {
      "text/html": [
       "<style>.container { width:85% !important; }</style>"
      ],
      "text/plain": [
       "<IPython.core.display.HTML object>"
      ]
     },
     "metadata": {},
     "output_type": "display_data"
    }
   ],
   "source": [
    "from IPython.core.display import display, HTML\n",
    "display(HTML(\"<style>.container { width:85% !important; }</style>\"))"
   ]
  },
  {
   "cell_type": "code",
   "execution_count": 2,
   "metadata": {},
   "outputs": [],
   "source": [
    "import matplotlib.pyplot as plt\n",
    "from cmplotter import plot_confusion_matrix\n",
    "%matplotlib inline\n",
    "import numpy as np\n",
    "#Set some numpy print options for displaying numpy arrays to fit maximum width of cell\n",
    "np.set_printoptions(precision=8, edgeitems=30, linewidth=1000,formatter=dict(float=lambda x: \"%.8g\" % x))\n",
    "\n",
    "import pandas as pd\n",
    "from xgboost import XGBClassifier,plot_tree\n",
    "from sklearn import datasets\n",
    "from sklearn.linear_model import Ridge\n",
    "from sklearn.model_selection import train_test_split,GridSearchCV\n",
    "from sklearn.metrics import accuracy_score,classification_report,confusion_matrix\n",
    "from sklearn.preprocessing import LabelEncoder,label_binarize"
   ]
  },
  {
   "cell_type": "code",
   "execution_count": 3,
   "metadata": {},
   "outputs": [
    {
     "data": {
      "text/html": [
       "<div>\n",
       "<style scoped>\n",
       "    .dataframe tbody tr th:only-of-type {\n",
       "        vertical-align: middle;\n",
       "    }\n",
       "\n",
       "    .dataframe tbody tr th {\n",
       "        vertical-align: top;\n",
       "    }\n",
       "\n",
       "    .dataframe thead th {\n",
       "        text-align: right;\n",
       "    }\n",
       "</style>\n",
       "<table border=\"1\" class=\"dataframe\">\n",
       "  <thead>\n",
       "    <tr style=\"text-align: right;\">\n",
       "      <th></th>\n",
       "      <th>Landing_Time</th>\n",
       "      <th>hourofday</th>\n",
       "      <th>aircraft_registration</th>\n",
       "      <th>wind_direction_degrees</th>\n",
       "      <th>Wind_Speed_kt</th>\n",
       "      <th>Wind_And_Gust_kt</th>\n",
       "      <th>Landing_RVR_or_Vis_m</th>\n",
       "      <th>temperature_c</th>\n",
       "      <th>dew_point_c</th>\n",
       "      <th>relative_humidity</th>\n",
       "      <th>pressure_altimiter_in</th>\n",
       "      <th>RunwayTrueTrack</th>\n",
       "      <th>Landing_Visibilty_Class_RVR</th>\n",
       "      <th>present_weather_codes</th>\n",
       "      <th>Landing_RWY</th>\n",
       "    </tr>\n",
       "  </thead>\n",
       "  <tbody>\n",
       "    <tr>\n",
       "      <th>0</th>\n",
       "      <td>2016-01-01 04:34:38</td>\n",
       "      <td>4</td>\n",
       "      <td>GXLEJ</td>\n",
       "      <td>NaN</td>\n",
       "      <td>1.0</td>\n",
       "      <td>1.0</td>\n",
       "      <td>6000.0</td>\n",
       "      <td>2.0</td>\n",
       "      <td>1.0</td>\n",
       "      <td>93.08</td>\n",
       "      <td>30.21</td>\n",
       "      <td>89.713523</td>\n",
       "      <td>VMC</td>\n",
       "      <td>NaN</td>\n",
       "      <td>RW09R</td>\n",
       "    </tr>\n",
       "    <tr>\n",
       "      <th>1</th>\n",
       "      <td>2016-01-01 04:38:22</td>\n",
       "      <td>4</td>\n",
       "      <td>GSTBH</td>\n",
       "      <td>NaN</td>\n",
       "      <td>1.0</td>\n",
       "      <td>1.0</td>\n",
       "      <td>6000.0</td>\n",
       "      <td>2.0</td>\n",
       "      <td>1.0</td>\n",
       "      <td>93.08</td>\n",
       "      <td>30.21</td>\n",
       "      <td>89.713523</td>\n",
       "      <td>VMC</td>\n",
       "      <td>NaN</td>\n",
       "      <td>RW09R</td>\n",
       "    </tr>\n",
       "    <tr>\n",
       "      <th>2</th>\n",
       "      <td>2016-01-01 04:40:38</td>\n",
       "      <td>4</td>\n",
       "      <td>GCIVH</td>\n",
       "      <td>110.0</td>\n",
       "      <td>1.0</td>\n",
       "      <td>1.0</td>\n",
       "      <td>6000.0</td>\n",
       "      <td>2.0</td>\n",
       "      <td>1.0</td>\n",
       "      <td>93.08</td>\n",
       "      <td>30.21</td>\n",
       "      <td>89.713523</td>\n",
       "      <td>VMC</td>\n",
       "      <td>NaN</td>\n",
       "      <td>RW09R</td>\n",
       "    </tr>\n",
       "    <tr>\n",
       "      <th>3</th>\n",
       "      <td>2016-01-01 04:42:36</td>\n",
       "      <td>4</td>\n",
       "      <td>GVYUM</td>\n",
       "      <td>110.0</td>\n",
       "      <td>1.0</td>\n",
       "      <td>1.0</td>\n",
       "      <td>6000.0</td>\n",
       "      <td>2.0</td>\n",
       "      <td>1.0</td>\n",
       "      <td>93.08</td>\n",
       "      <td>30.21</td>\n",
       "      <td>89.713523</td>\n",
       "      <td>VMC</td>\n",
       "      <td>NaN</td>\n",
       "      <td>RW09R</td>\n",
       "    </tr>\n",
       "    <tr>\n",
       "      <th>4</th>\n",
       "      <td>2016-01-01 04:44:43</td>\n",
       "      <td>4</td>\n",
       "      <td>GBYGB</td>\n",
       "      <td>110.0</td>\n",
       "      <td>1.0</td>\n",
       "      <td>1.0</td>\n",
       "      <td>6000.0</td>\n",
       "      <td>2.0</td>\n",
       "      <td>1.0</td>\n",
       "      <td>93.08</td>\n",
       "      <td>30.21</td>\n",
       "      <td>89.713523</td>\n",
       "      <td>VMC</td>\n",
       "      <td>NaN</td>\n",
       "      <td>RW09R</td>\n",
       "    </tr>\n",
       "  </tbody>\n",
       "</table>\n",
       "</div>"
      ],
      "text/plain": [
       "         Landing_Time  hourofday aircraft_registration  \\\n",
       "0 2016-01-01 04:34:38          4                 GXLEJ   \n",
       "1 2016-01-01 04:38:22          4                 GSTBH   \n",
       "2 2016-01-01 04:40:38          4                 GCIVH   \n",
       "3 2016-01-01 04:42:36          4                 GVYUM   \n",
       "4 2016-01-01 04:44:43          4                 GBYGB   \n",
       "\n",
       "   wind_direction_degrees  Wind_Speed_kt  Wind_And_Gust_kt  \\\n",
       "0                     NaN            1.0               1.0   \n",
       "1                     NaN            1.0               1.0   \n",
       "2                   110.0            1.0               1.0   \n",
       "3                   110.0            1.0               1.0   \n",
       "4                   110.0            1.0               1.0   \n",
       "\n",
       "   Landing_RVR_or_Vis_m  temperature_c  dew_point_c  relative_humidity  \\\n",
       "0                6000.0            2.0          1.0              93.08   \n",
       "1                6000.0            2.0          1.0              93.08   \n",
       "2                6000.0            2.0          1.0              93.08   \n",
       "3                6000.0            2.0          1.0              93.08   \n",
       "4                6000.0            2.0          1.0              93.08   \n",
       "\n",
       "   pressure_altimiter_in  RunwayTrueTrack Landing_Visibilty_Class_RVR  \\\n",
       "0                  30.21        89.713523                         VMC   \n",
       "1                  30.21        89.713523                         VMC   \n",
       "2                  30.21        89.713523                         VMC   \n",
       "3                  30.21        89.713523                         VMC   \n",
       "4                  30.21        89.713523                         VMC   \n",
       "\n",
       "  present_weather_codes Landing_RWY  \n",
       "0                   NaN       RW09R  \n",
       "1                   NaN       RW09R  \n",
       "2                   NaN       RW09R  \n",
       "3                   NaN       RW09R  \n",
       "4                   NaN       RW09R  "
      ]
     },
     "execution_count": 3,
     "metadata": {},
     "output_type": "execute_result"
    }
   ],
   "source": [
    "#load Dataset\n",
    "data = pd.read_csv('data/2016_EGLL_Testdata_cleaned.csv', parse_dates = ['Landing_Time'], infer_datetime_format = True)\n",
    "data.head()"
   ]
  },
  {
   "cell_type": "code",
   "execution_count": 4,
   "metadata": {},
   "outputs": [
    {
     "name": "stdout",
     "output_type": "stream",
     "text": [
      "<class 'pandas.core.frame.DataFrame'>\n",
      "RangeIndex: 220940 entries, 0 to 220939\n",
      "Data columns (total 15 columns):\n",
      "Landing_Time                   220940 non-null datetime64[ns]\n",
      "hourofday                      220940 non-null int64\n",
      "aircraft_registration          220799 non-null object\n",
      "wind_direction_degrees         203226 non-null float64\n",
      "Wind_Speed_kt                  220940 non-null float64\n",
      "Wind_And_Gust_kt               220940 non-null float64\n",
      "Landing_RVR_or_Vis_m           220940 non-null float64\n",
      "temperature_c                  220940 non-null float64\n",
      "dew_point_c                    220940 non-null float64\n",
      "relative_humidity              220940 non-null float64\n",
      "pressure_altimiter_in          220940 non-null float64\n",
      "RunwayTrueTrack                220940 non-null float64\n",
      "Landing_Visibilty_Class_RVR    220940 non-null object\n",
      "present_weather_codes          33015 non-null object\n",
      "Landing_RWY                    220940 non-null object\n",
      "dtypes: datetime64[ns](1), float64(9), int64(1), object(4)\n",
      "memory usage: 25.3+ MB\n"
     ]
    }
   ],
   "source": [
    "data.info()"
   ]
  },
  {
   "cell_type": "code",
   "execution_count": 5,
   "metadata": {},
   "outputs": [
    {
     "name": "stdout",
     "output_type": "stream",
     "text": [
      "No. of Unique Landing Visibility codes: 5 \n",
      " ['CAT1' 'CAT2' 'CAT3' 'Marginal VMC' 'VMC']\n",
      "\n",
      " No. of Unique Preset Weather Codes: 50 \n",
      " ['+RA' '+RA VCTS' '+SHRA' '-DZ' '-DZ BR' '-DZ FG' '-RA' '-RA VCTS' '-RADZ' '-RADZ BR' '-RADZ FG' '-RADZ HZ' '-SHRA' '-SHRA TS' '-SHRA VCTS' '-SHRASN' '-SN' '-TSRA' '//////' 'BCFG' 'BR' 'BR BCFG' 'BR MIFG' 'BR PRFG' 'BR VCFG' 'BR VCTS' 'DZ' 'FG' 'FZFG' 'HZ' 'MIFG' 'MIFG BR' 'PRFG' 'PRFG VCFG' 'RA' 'RA HZ' 'RADZ' 'RADZ FG' 'SG' 'SHRA' 'SHRA HZ' 'SHRA VCTS' 'TS' 'TSRA' 'VCFG' 'VCSH' 'VCTS' 'VCTS -SHRA' 'VCTS VCSH' 'nan']\n"
     ]
    }
   ],
   "source": [
    "data['present_weather_codes']=data['present_weather_codes'].astype('str') #Convert to string to avoid TypeError when using np.unique function\n",
    "\n",
    "# Number of unique values in Landing Visibility Class and Weather Conditions\n",
    "print('No. of Unique Landing Visibility codes:',data['Landing_Visibilty_Class_RVR'].nunique(),'\\n',np.unique(data['Landing_Visibilty_Class_RVR']))\n",
    "print('\\n No. of Unique Preset Weather Codes:',data['present_weather_codes'].nunique(),'\\n',np.unique(data['present_weather_codes']))"
   ]
  },
  {
   "cell_type": "code",
   "execution_count": 6,
   "metadata": {},
   "outputs": [],
   "source": [
    "# One-Hot Encoding Categorical Variables pertaining to Visibility and Weather conditions which are interesting features\n",
    "data = pd.get_dummies(data, columns=['Landing_Visibilty_Class_RVR', 'present_weather_codes'])\n",
    "# Dropping Categorical variables which are not going to be used by the GBM model\n",
    "data.drop(columns=['Landing_Time', 'aircraft_registration'],inplace = True)"
   ]
  },
  {
   "cell_type": "code",
   "execution_count": 7,
   "metadata": {},
   "outputs": [
    {
     "name": "stdout",
     "output_type": "stream",
     "text": [
      "<class 'pandas.core.frame.DataFrame'>\n",
      "RangeIndex: 220940 entries, 0 to 220939\n",
      "Data columns (total 66 columns):\n",
      "hourofday                                   220940 non-null int64\n",
      "wind_direction_degrees                      203226 non-null float64\n",
      "Wind_Speed_kt                               220940 non-null float64\n",
      "Wind_And_Gust_kt                            220940 non-null float64\n",
      "Landing_RVR_or_Vis_m                        220940 non-null float64\n",
      "temperature_c                               220940 non-null float64\n",
      "dew_point_c                                 220940 non-null float64\n",
      "relative_humidity                           220940 non-null float64\n",
      "pressure_altimiter_in                       220940 non-null float64\n",
      "RunwayTrueTrack                             220940 non-null float64\n",
      "Landing_RWY                                 220940 non-null object\n",
      "Landing_Visibilty_Class_RVR_CAT1            220940 non-null uint8\n",
      "Landing_Visibilty_Class_RVR_CAT2            220940 non-null uint8\n",
      "Landing_Visibilty_Class_RVR_CAT3            220940 non-null uint8\n",
      "Landing_Visibilty_Class_RVR_Marginal VMC    220940 non-null uint8\n",
      "Landing_Visibilty_Class_RVR_VMC             220940 non-null uint8\n",
      "present_weather_codes_+RA                   220940 non-null uint8\n",
      "present_weather_codes_+RA VCTS              220940 non-null uint8\n",
      "present_weather_codes_+SHRA                 220940 non-null uint8\n",
      "present_weather_codes_-DZ                   220940 non-null uint8\n",
      "present_weather_codes_-DZ BR                220940 non-null uint8\n",
      "present_weather_codes_-DZ FG                220940 non-null uint8\n",
      "present_weather_codes_-RA                   220940 non-null uint8\n",
      "present_weather_codes_-RA VCTS              220940 non-null uint8\n",
      "present_weather_codes_-RADZ                 220940 non-null uint8\n",
      "present_weather_codes_-RADZ BR              220940 non-null uint8\n",
      "present_weather_codes_-RADZ FG              220940 non-null uint8\n",
      "present_weather_codes_-RADZ HZ              220940 non-null uint8\n",
      "present_weather_codes_-SHRA                 220940 non-null uint8\n",
      "present_weather_codes_-SHRA TS              220940 non-null uint8\n",
      "present_weather_codes_-SHRA VCTS            220940 non-null uint8\n",
      "present_weather_codes_-SHRASN               220940 non-null uint8\n",
      "present_weather_codes_-SN                   220940 non-null uint8\n",
      "present_weather_codes_-TSRA                 220940 non-null uint8\n",
      "present_weather_codes_//////                220940 non-null uint8\n",
      "present_weather_codes_BCFG                  220940 non-null uint8\n",
      "present_weather_codes_BR                    220940 non-null uint8\n",
      "present_weather_codes_BR BCFG               220940 non-null uint8\n",
      "present_weather_codes_BR MIFG               220940 non-null uint8\n",
      "present_weather_codes_BR PRFG               220940 non-null uint8\n",
      "present_weather_codes_BR VCFG               220940 non-null uint8\n",
      "present_weather_codes_BR VCTS               220940 non-null uint8\n",
      "present_weather_codes_DZ                    220940 non-null uint8\n",
      "present_weather_codes_FG                    220940 non-null uint8\n",
      "present_weather_codes_FZFG                  220940 non-null uint8\n",
      "present_weather_codes_HZ                    220940 non-null uint8\n",
      "present_weather_codes_MIFG                  220940 non-null uint8\n",
      "present_weather_codes_MIFG BR               220940 non-null uint8\n",
      "present_weather_codes_PRFG                  220940 non-null uint8\n",
      "present_weather_codes_PRFG VCFG             220940 non-null uint8\n",
      "present_weather_codes_RA                    220940 non-null uint8\n",
      "present_weather_codes_RA HZ                 220940 non-null uint8\n",
      "present_weather_codes_RADZ                  220940 non-null uint8\n",
      "present_weather_codes_RADZ FG               220940 non-null uint8\n",
      "present_weather_codes_SG                    220940 non-null uint8\n",
      "present_weather_codes_SHRA                  220940 non-null uint8\n",
      "present_weather_codes_SHRA HZ               220940 non-null uint8\n",
      "present_weather_codes_SHRA VCTS             220940 non-null uint8\n",
      "present_weather_codes_TS                    220940 non-null uint8\n",
      "present_weather_codes_TSRA                  220940 non-null uint8\n",
      "present_weather_codes_VCFG                  220940 non-null uint8\n",
      "present_weather_codes_VCSH                  220940 non-null uint8\n",
      "present_weather_codes_VCTS                  220940 non-null uint8\n",
      "present_weather_codes_VCTS -SHRA            220940 non-null uint8\n",
      "present_weather_codes_VCTS VCSH             220940 non-null uint8\n",
      "present_weather_codes_nan                   220940 non-null uint8\n",
      "dtypes: float64(9), int64(1), object(1), uint8(55)\n",
      "memory usage: 30.1+ MB\n"
     ]
    }
   ],
   "source": [
    "data.info()"
   ]
  },
  {
   "cell_type": "code",
   "execution_count": 8,
   "metadata": {},
   "outputs": [],
   "source": [
    "input_features = data.copy()\n",
    "X_data = input_features.drop('Landing_RWY', axis=1)\n",
    "y = data.Landing_RWY.values"
   ]
  },
  {
   "cell_type": "code",
   "execution_count": 9,
   "metadata": {},
   "outputs": [
    {
     "data": {
      "text/html": [
       "<div>\n",
       "<style scoped>\n",
       "    .dataframe tbody tr th:only-of-type {\n",
       "        vertical-align: middle;\n",
       "    }\n",
       "\n",
       "    .dataframe tbody tr th {\n",
       "        vertical-align: top;\n",
       "    }\n",
       "\n",
       "    .dataframe thead th {\n",
       "        text-align: right;\n",
       "    }\n",
       "</style>\n",
       "<table border=\"1\" class=\"dataframe\">\n",
       "  <thead>\n",
       "    <tr style=\"text-align: right;\">\n",
       "      <th></th>\n",
       "      <th>hourofday</th>\n",
       "      <th>wind_direction_degrees</th>\n",
       "      <th>Wind_Speed_kt</th>\n",
       "      <th>Wind_And_Gust_kt</th>\n",
       "      <th>Landing_RVR_or_Vis_m</th>\n",
       "      <th>temperature_c</th>\n",
       "      <th>dew_point_c</th>\n",
       "      <th>relative_humidity</th>\n",
       "      <th>pressure_altimiter_in</th>\n",
       "      <th>RunwayTrueTrack</th>\n",
       "      <th>...</th>\n",
       "      <th>present_weather_codes_SHRA HZ</th>\n",
       "      <th>present_weather_codes_SHRA VCTS</th>\n",
       "      <th>present_weather_codes_TS</th>\n",
       "      <th>present_weather_codes_TSRA</th>\n",
       "      <th>present_weather_codes_VCFG</th>\n",
       "      <th>present_weather_codes_VCSH</th>\n",
       "      <th>present_weather_codes_VCTS</th>\n",
       "      <th>present_weather_codes_VCTS -SHRA</th>\n",
       "      <th>present_weather_codes_VCTS VCSH</th>\n",
       "      <th>present_weather_codes_nan</th>\n",
       "    </tr>\n",
       "  </thead>\n",
       "  <tbody>\n",
       "    <tr>\n",
       "      <th>0</th>\n",
       "      <td>4</td>\n",
       "      <td>NaN</td>\n",
       "      <td>1.0</td>\n",
       "      <td>1.0</td>\n",
       "      <td>6000.0</td>\n",
       "      <td>2.0</td>\n",
       "      <td>1.0</td>\n",
       "      <td>93.08</td>\n",
       "      <td>30.21</td>\n",
       "      <td>89.713523</td>\n",
       "      <td>...</td>\n",
       "      <td>0</td>\n",
       "      <td>0</td>\n",
       "      <td>0</td>\n",
       "      <td>0</td>\n",
       "      <td>0</td>\n",
       "      <td>0</td>\n",
       "      <td>0</td>\n",
       "      <td>0</td>\n",
       "      <td>0</td>\n",
       "      <td>1</td>\n",
       "    </tr>\n",
       "    <tr>\n",
       "      <th>1</th>\n",
       "      <td>4</td>\n",
       "      <td>NaN</td>\n",
       "      <td>1.0</td>\n",
       "      <td>1.0</td>\n",
       "      <td>6000.0</td>\n",
       "      <td>2.0</td>\n",
       "      <td>1.0</td>\n",
       "      <td>93.08</td>\n",
       "      <td>30.21</td>\n",
       "      <td>89.713523</td>\n",
       "      <td>...</td>\n",
       "      <td>0</td>\n",
       "      <td>0</td>\n",
       "      <td>0</td>\n",
       "      <td>0</td>\n",
       "      <td>0</td>\n",
       "      <td>0</td>\n",
       "      <td>0</td>\n",
       "      <td>0</td>\n",
       "      <td>0</td>\n",
       "      <td>1</td>\n",
       "    </tr>\n",
       "    <tr>\n",
       "      <th>2</th>\n",
       "      <td>4</td>\n",
       "      <td>110.0</td>\n",
       "      <td>1.0</td>\n",
       "      <td>1.0</td>\n",
       "      <td>6000.0</td>\n",
       "      <td>2.0</td>\n",
       "      <td>1.0</td>\n",
       "      <td>93.08</td>\n",
       "      <td>30.21</td>\n",
       "      <td>89.713523</td>\n",
       "      <td>...</td>\n",
       "      <td>0</td>\n",
       "      <td>0</td>\n",
       "      <td>0</td>\n",
       "      <td>0</td>\n",
       "      <td>0</td>\n",
       "      <td>0</td>\n",
       "      <td>0</td>\n",
       "      <td>0</td>\n",
       "      <td>0</td>\n",
       "      <td>1</td>\n",
       "    </tr>\n",
       "    <tr>\n",
       "      <th>3</th>\n",
       "      <td>4</td>\n",
       "      <td>110.0</td>\n",
       "      <td>1.0</td>\n",
       "      <td>1.0</td>\n",
       "      <td>6000.0</td>\n",
       "      <td>2.0</td>\n",
       "      <td>1.0</td>\n",
       "      <td>93.08</td>\n",
       "      <td>30.21</td>\n",
       "      <td>89.713523</td>\n",
       "      <td>...</td>\n",
       "      <td>0</td>\n",
       "      <td>0</td>\n",
       "      <td>0</td>\n",
       "      <td>0</td>\n",
       "      <td>0</td>\n",
       "      <td>0</td>\n",
       "      <td>0</td>\n",
       "      <td>0</td>\n",
       "      <td>0</td>\n",
       "      <td>1</td>\n",
       "    </tr>\n",
       "    <tr>\n",
       "      <th>4</th>\n",
       "      <td>4</td>\n",
       "      <td>110.0</td>\n",
       "      <td>1.0</td>\n",
       "      <td>1.0</td>\n",
       "      <td>6000.0</td>\n",
       "      <td>2.0</td>\n",
       "      <td>1.0</td>\n",
       "      <td>93.08</td>\n",
       "      <td>30.21</td>\n",
       "      <td>89.713523</td>\n",
       "      <td>...</td>\n",
       "      <td>0</td>\n",
       "      <td>0</td>\n",
       "      <td>0</td>\n",
       "      <td>0</td>\n",
       "      <td>0</td>\n",
       "      <td>0</td>\n",
       "      <td>0</td>\n",
       "      <td>0</td>\n",
       "      <td>0</td>\n",
       "      <td>1</td>\n",
       "    </tr>\n",
       "  </tbody>\n",
       "</table>\n",
       "<p>5 rows × 65 columns</p>\n",
       "</div>"
      ],
      "text/plain": [
       "   hourofday  wind_direction_degrees  Wind_Speed_kt  Wind_And_Gust_kt  \\\n",
       "0          4                     NaN            1.0               1.0   \n",
       "1          4                     NaN            1.0               1.0   \n",
       "2          4                   110.0            1.0               1.0   \n",
       "3          4                   110.0            1.0               1.0   \n",
       "4          4                   110.0            1.0               1.0   \n",
       "\n",
       "   Landing_RVR_or_Vis_m  temperature_c  dew_point_c  relative_humidity  \\\n",
       "0                6000.0            2.0          1.0              93.08   \n",
       "1                6000.0            2.0          1.0              93.08   \n",
       "2                6000.0            2.0          1.0              93.08   \n",
       "3                6000.0            2.0          1.0              93.08   \n",
       "4                6000.0            2.0          1.0              93.08   \n",
       "\n",
       "   pressure_altimiter_in  RunwayTrueTrack            ...              \\\n",
       "0                  30.21        89.713523            ...               \n",
       "1                  30.21        89.713523            ...               \n",
       "2                  30.21        89.713523            ...               \n",
       "3                  30.21        89.713523            ...               \n",
       "4                  30.21        89.713523            ...               \n",
       "\n",
       "   present_weather_codes_SHRA HZ  present_weather_codes_SHRA VCTS  \\\n",
       "0                              0                                0   \n",
       "1                              0                                0   \n",
       "2                              0                                0   \n",
       "3                              0                                0   \n",
       "4                              0                                0   \n",
       "\n",
       "   present_weather_codes_TS  present_weather_codes_TSRA  \\\n",
       "0                         0                           0   \n",
       "1                         0                           0   \n",
       "2                         0                           0   \n",
       "3                         0                           0   \n",
       "4                         0                           0   \n",
       "\n",
       "   present_weather_codes_VCFG  present_weather_codes_VCSH  \\\n",
       "0                           0                           0   \n",
       "1                           0                           0   \n",
       "2                           0                           0   \n",
       "3                           0                           0   \n",
       "4                           0                           0   \n",
       "\n",
       "   present_weather_codes_VCTS  present_weather_codes_VCTS -SHRA  \\\n",
       "0                           0                                 0   \n",
       "1                           0                                 0   \n",
       "2                           0                                 0   \n",
       "3                           0                                 0   \n",
       "4                           0                                 0   \n",
       "\n",
       "   present_weather_codes_VCTS VCSH  present_weather_codes_nan  \n",
       "0                                0                          1  \n",
       "1                                0                          1  \n",
       "2                                0                          1  \n",
       "3                                0                          1  \n",
       "4                                0                          1  \n",
       "\n",
       "[5 rows x 65 columns]"
      ]
     },
     "execution_count": 9,
     "metadata": {},
     "output_type": "execute_result"
    }
   ],
   "source": [
    "X_data.head()"
   ]
  },
  {
   "cell_type": "code",
   "execution_count": 10,
   "metadata": {},
   "outputs": [
    {
     "name": "stdout",
     "output_type": "stream",
     "text": [
      "No. of Classes in the output: 4 and the classes are: ['RW09L' 'RW09R' 'RW27L' 'RW27R']\n"
     ]
    }
   ],
   "source": [
    "# Number of unique values Ytrn\n",
    "n_classes = len(np.unique(y))\n",
    "print('No. of Classes in the output:',n_classes,'and the classes are:',np.unique(y))"
   ]
  },
  {
   "cell_type": "code",
   "execution_count": 11,
   "metadata": {},
   "outputs": [
    {
     "name": "stdout",
     "output_type": "stream",
     "text": [
      "Encoded-Y: [1 1 1 1 1 1 1 1 1 1 1 1 1 1 1 1 1 0 1 0 1 0 1 0 1 0 1 0 1 0 ... 2 2 2 2 2 2 2 2 2 2 2 2 2 2 2 2 2 2 2 2 2 2 2 2 2 2 2 2 2 2]\n"
     ]
    }
   ],
   "source": [
    "## One Hot Encode categorical variable output converting the class labels to integers\n",
    "encoder = LabelEncoder()\n",
    "encoded_y = encoder.fit_transform(y)\n",
    "print('Encoded-Y:',encoded_y)"
   ]
  },
  {
   "cell_type": "code",
   "execution_count": 12,
   "metadata": {},
   "outputs": [],
   "source": [
    "## Convert class labels to binary representation for each of the four classes such as [0 1 0 0], [1 0 0 0], [0 0 1 0] and [0 0 0 1]\n",
    "# y_bin_enc = label_binarize(y, classes=['RW09L','RW09R','RW27L','RW27R'])\n",
    "# print('Output-Y:',y_bin_enc)"
   ]
  },
  {
   "cell_type": "code",
   "execution_count": 13,
   "metadata": {},
   "outputs": [],
   "source": [
    "#Split the dataset into train and Test\n",
    "seed = 42\n",
    "test_size = 0.3\n",
    "X_train, X_test, y_train, y_test = train_test_split(X_data, y, test_size=test_size, random_state=seed)"
   ]
  },
  {
   "cell_type": "code",
   "execution_count": 14,
   "metadata": {},
   "outputs": [
    {
     "name": "stdout",
     "output_type": "stream",
     "text": [
      "Train dataset contains 154658 rows and 65 columns\n",
      "Test dataset contains 66282 rows and 65 columns\n"
     ]
    }
   ],
   "source": [
    "# Sanity Check\n",
    "print(\"Train dataset contains {0} rows and {1} columns\".format(X_train.shape[0], X_train.shape[1]))\n",
    "print(\"Test dataset contains {0} rows and {1} columns\".format(X_test.shape[0], X_test.shape[1]))"
   ]
  },
  {
   "cell_type": "code",
   "execution_count": 15,
   "metadata": {},
   "outputs": [
    {
     "name": "stdout",
     "output_type": "stream",
     "text": [
      "Train possible labels: \n",
      "['RW09L' 'RW09R' 'RW27L' 'RW27R']\n",
      "\n",
      "Test possible labels: \n",
      "['RW09L' 'RW09R' 'RW27L' 'RW27R']\n"
     ]
    }
   ],
   "source": [
    "print(\"Train possible labels: \")\n",
    "print(np.unique(y_train))\n",
    "\n",
    "print(\"\\nTest possible labels: \")\n",
    "print(np.unique(y_test))"
   ]
  },
  {
   "cell_type": "code",
   "execution_count": 16,
   "metadata": {},
   "outputs": [],
   "source": [
    "def correct_predictions_counter(y_test,y_pred):\n",
    "    '''Takes in the predictions of a model output and returns the no. of correct predictions.\n",
    "    Arguments: y_test, y_pred'''\n",
    "    correct = 0\n",
    "    for i in range(len(y_pred)):\n",
    "        if (y_test[i] == y_pred[i]):\n",
    "            correct += 1\n",
    "    return correct"
   ]
  },
  {
   "cell_type": "markdown",
   "metadata": {},
   "source": [
    "## Training Classifier"
   ]
  },
  {
   "cell_type": "markdown",
   "metadata": {},
   "source": [
    "### Model 1:\n",
    " Base model without any parameters."
   ]
  },
  {
   "cell_type": "code",
   "execution_count": 17,
   "metadata": {},
   "outputs": [
    {
     "name": "stdout",
     "output_type": "stream",
     "text": [
      "Wall time: 2min 9s\n"
     ]
    },
    {
     "name": "stderr",
     "output_type": "stream",
     "text": [
      "C:\\ProgramData\\Anaconda3\\envs\\datasciencelab\\lib\\site-packages\\sklearn\\preprocessing\\label.py:151: DeprecationWarning: The truth value of an empty array is ambiguous. Returning False, but in future this will result in an error. Use `array.size > 0` to check that an array is not empty.\n",
      "  if diff:\n"
     ]
    }
   ],
   "source": [
    "%%time\n",
    "# Train the XGboost Model for Classification\n",
    "model1 = XGBClassifier().fit(X_train, y_train)\n",
    "\n",
    "# Make a Prediction with Model1\n",
    "pred1 = model1.predict(X_test)\n",
    "pred1"
   ]
  },
  {
   "cell_type": "code",
   "execution_count": 18,
   "metadata": {},
   "outputs": [
    {
     "data": {
      "image/png": "[encoded data removed]",
      "text/plain": [
       "<Figure size 2664x1800 with 1 Axes>"
      ]
     },
     "metadata": {
      "needs_background": "light"
     },
     "output_type": "display_data"
    }
   ],
   "source": [
    "# plot single tree segment to illustrate decision tree concept\n",
    "plot_tree(model1,rankdir='LR',num_trees=0)\n",
    "fig = plt.gcf()\n",
    "fig.set_size_inches(37,25)"
   ]
  },
  {
   "cell_type": "code",
   "execution_count": 19,
   "metadata": {},
   "outputs": [
    {
     "name": "stdout",
     "output_type": "stream",
     "text": [
      "Predicted correctly: 46320/66282\n",
      "Model 1 XGboost Report: \n",
      "              precision    recall  f1-score   support\n",
      "\n",
      "      RW09L       0.93      1.00      0.96     17892\n",
      "      RW09R       0.58      0.06      0.11      1449\n",
      "      RW27L       0.61      0.59      0.60     23563\n",
      "      RW27R       0.60      0.62      0.61     23378\n",
      "\n",
      "avg / total       0.69      0.70      0.69     66282\n",
      " \n",
      "\n",
      "Accuracy for model 1: 69.88\n"
     ]
    }
   ],
   "source": [
    "# Calculate Obtained Error\n",
    "print('Predicted correctly: {0}/{1}'.format(correct_predictions_counter(y_test,pred1), len(pred1)))\n",
    "print('Model 1 XGboost Report:','\\n', (classification_report(y_test, pred1)),'\\n')\n",
    "print(\"Accuracy for model 1: %.2f\" % (accuracy_score(y_test, pred1) * 100))"
   ]
  },
  {
   "cell_type": "markdown",
   "metadata": {},
   "source": [
    "### Model 2:\n",
    "- we are dealing with multilabel classification problem (`'objective':'multi:softmax'`),\n",
    "- we want shallow single trees with no more than 4 levels (`'max_depth':4`),\n",
    "- we want no output (so set `'silent':1`)\n",
    "- we want algorithm to learn moderately fast (`'learning_rate':0.2`), (in naive named `eta`)\n",
    "- we want to iterate only 100 rounds (`n_estimators`)"
   ]
  },
  {
   "cell_type": "code",
   "execution_count": 20,
   "metadata": {},
   "outputs": [],
   "source": [
    "params = {\n",
    "    'objective': 'multi:softmax',\n",
    "    'silent': 1,\n",
    "    'max_depth': 4,\n",
    "    'learning_rate': 0.2,    \n",
    "    'n_estimators': 100\n",
    "}"
   ]
  },
  {
   "cell_type": "code",
   "execution_count": 21,
   "metadata": {},
   "outputs": [
    {
     "name": "stdout",
     "output_type": "stream",
     "text": [
      "Wall time: 2min 26s\n"
     ]
    },
    {
     "name": "stderr",
     "output_type": "stream",
     "text": [
      "C:\\ProgramData\\Anaconda3\\envs\\datasciencelab\\lib\\site-packages\\sklearn\\preprocessing\\label.py:151: DeprecationWarning: The truth value of an empty array is ambiguous. Returning False, but in future this will result in an error. Use `array.size > 0` to check that an array is not empty.\n",
      "  if diff:\n"
     ]
    }
   ],
   "source": [
    "%%time\n",
    "# Train the XGboost Model for Classification\n",
    "model2 = XGBClassifier(**params).fit(X_train, y_train)\n",
    "# Make a Prediction with Model2\n",
    "pred2 = model2.predict(X_test)"
   ]
  },
  {
   "cell_type": "code",
   "execution_count": 22,
   "metadata": {},
   "outputs": [],
   "source": [
    "## Plot single tree\n",
    "# plot_tree(model2,rankdir='LR',num_trees=4)\n",
    "# fig = plt.gcf()\n",
    "# fig.set_size_inches(37,25)"
   ]
  },
  {
   "cell_type": "code",
   "execution_count": 23,
   "metadata": {},
   "outputs": [
    {
     "name": "stdout",
     "output_type": "stream",
     "text": [
      "Model 2 XGboost Report: \n",
      "              precision    recall  f1-score   support\n",
      "\n",
      "      RW09L       0.93      1.00      0.96     17892\n",
      "      RW09R       0.69      0.12      0.20      1449\n",
      "      RW27L       0.73      0.73      0.73     23563\n",
      "      RW27R       0.73      0.72      0.72     23378\n",
      "\n",
      "avg / total       0.78      0.79      0.78     66282\n",
      " \n",
      "\n",
      "Predicted correctly: 52080/66282\n",
      "Accuracy for model 3: 78.57 %\n",
      "Error: 0.2143\n"
     ]
    }
   ],
   "source": [
    "print('Model 2 XGboost Report:','\\n', (classification_report(y_test, pred2)),'\\n')\n",
    "# Calculate Obtained Error\n",
    "print('Predicted correctly: {0}/{1}'.format(correct_predictions_counter(y_test,pred2), len(pred2)))\n",
    "print(\"Accuracy for model 3: %.2f\" % (accuracy_score(y_test, pred2) * 100),'%')\n",
    "print('Error: {0:.4f}'.format(1-(accuracy_score(y_test, pred2))))"
   ]
  },
  {
   "cell_type": "code",
   "execution_count": 24,
   "metadata": {},
   "outputs": [
    {
     "name": "stdout",
     "output_type": "stream",
     "text": [
      "[[17818    74     0     0]\n",
      " [ 1282   167     0     0]\n",
      " [    0     0 17198  6365]\n",
      " [    0     0  6481 16897]]\n"
     ]
    }
   ],
   "source": [
    "print(confusion_matrix(y_test, pred2))"
   ]
  },
  {
   "cell_type": "markdown",
   "metadata": {},
   "source": [
    "### Model 3:\n",
    "All the parameters are set like in the previous example\n",
    "- we want deep single trees with no more than 8 levels (`'max_depth':8`),\n",
    "- we want algorithm to learn slow and steadily (`'learning_rate':0.1`)\n",
    "- we don't any oupout (`'silent':1`)\n",
    "- we want to iterate 100 rounds (`n_estimators`)\n",
    "- In every boosting iteration, randomly sample half of the training data prior to growing trees to prevent over-fitting (`'subsample':0.5`)"
   ]
  },
  {
   "cell_type": "code",
   "execution_count": 25,
   "metadata": {},
   "outputs": [],
   "source": [
    "params = {\n",
    "    'objective': 'multi:softmax',\n",
    "    'silent': 1,\n",
    "    'max_depth': 8,\n",
    "    'learning_rate': 0.1,    \n",
    "    'n_estimators': 100,\n",
    "    'subsample': 0.5\n",
    "}"
   ]
  },
  {
   "cell_type": "code",
   "execution_count": 26,
   "metadata": {},
   "outputs": [
    {
     "name": "stdout",
     "output_type": "stream",
     "text": [
      "Wall time: 4min 40s\n"
     ]
    },
    {
     "name": "stderr",
     "output_type": "stream",
     "text": [
      "C:\\ProgramData\\Anaconda3\\envs\\datasciencelab\\lib\\site-packages\\sklearn\\preprocessing\\label.py:151: DeprecationWarning: The truth value of an empty array is ambiguous. Returning False, but in future this will result in an error. Use `array.size > 0` to check that an array is not empty.\n",
      "  if diff:\n"
     ]
    }
   ],
   "source": [
    "%%time\n",
    "model3 = XGBClassifier(**params).fit(X_train, y_train)\n",
    "pred3 = model3.predict(X_test)"
   ]
  },
  {
   "cell_type": "code",
   "execution_count": 27,
   "metadata": {},
   "outputs": [
    {
     "name": "stdout",
     "output_type": "stream",
     "text": [
      "Model 3 XGboost Report: \n",
      "              precision    recall  f1-score   support\n",
      "\n",
      "      RW09L       0.94      0.99      0.96     17892\n",
      "      RW09R       0.64      0.22      0.33      1449\n",
      "      RW27L       0.88      0.87      0.87     23563\n",
      "      RW27R       0.87      0.88      0.87     23378\n",
      "\n",
      "avg / total       0.89      0.89      0.89     66282\n",
      " \n",
      "\n",
      "Predicted correctly: 59030/66282\n",
      "Accuracy for model 2: 89.06 %\n",
      "Error: 0.1094\n"
     ]
    }
   ],
   "source": [
    "# Calculate Obtained Error      \n",
    "acc = accuracy_score(y_test, pred3)\n",
    "print('Model 3 XGboost Report:','\\n', (classification_report(y_test, pred3)),'\\n')\n",
    "print('Predicted correctly: {0}/{1}'.format(correct_predictions_counter(y_test,pred3), len(pred3)))\n",
    "print(\"Accuracy for model 2: {0:.2f} %\".format(acc * 100)) \n",
    "print('Error: {0:.4f}'.format(1-acc))"
   ]
  },
  {
   "cell_type": "code",
   "execution_count": 28,
   "metadata": {},
   "outputs": [
    {
     "data": {
      "image/png": "[encoded data removed]",
      "text/plain": [
       "<Figure size 576x432 with 2 Axes>"
      ]
     },
     "metadata": {
      "needs_background": "light"
     },
     "output_type": "display_data"
    }
   ],
   "source": [
    "# Plot Confusion Matrix of classification Results\n",
    "plot_confusion_matrix(cm= confusion_matrix(y_test, pred3), \n",
    "                      normalize    = False,\n",
    "                      target_names = np.unique(y_test),\n",
    "                      title        = \"Confusion Matrix for XGB Classifier - Model3\")"
   ]
  },
  {
   "cell_type": "markdown",
   "metadata": {},
   "source": [
    "### Model 4:\n",
    "This model configuration has been implemented after the results of the random search.\n",
    "- we want deep single trees with no more than 12 levels (`'max_depth':12`),\n",
    "- we want algorithm to learn slow and steadily (`'learning_rate':0.01`)\n",
    "- we want to iterate 1000 rounds (`n_estimators`)\n",
    "- In every boosting iteration, randomly sample the training data prior to growing trees to prevent over-fitting (`'subsample':0.8`)\n",
    "- For understanding the sinificance of more parameters. __Refer__:https://www.analyticsvidhya.com/blog/2016/03/complete-guide-parameter-tuning-xgboost-with-codes-python/"
   ]
  },
  {
   "cell_type": "code",
   "execution_count": 29,
   "metadata": {},
   "outputs": [],
   "source": [
    "params = {\n",
    "    'objective': 'multi:softmax',\n",
    "    'silent': 1,\n",
    "    'max_depth': 12,\n",
    "    'learning_rate': 0.01,\n",
    "    'subsample': 0.8,    \n",
    "    'n_estimators': 1000,    \n",
    "    'min_child_weight': 6,\n",
    "    'gamma':0,    \n",
    "    'colsample_bytree':0.8,\n",
    "    'reg_alpha':0.005,    \n",
    "    'n_jobs':4,\n",
    "    'scale_pos_weight':1,\n",
    "    'random_state':42\n",
    "}"
   ]
  },
  {
   "cell_type": "code",
   "execution_count": 30,
   "metadata": {},
   "outputs": [
    {
     "name": "stdout",
     "output_type": "stream",
     "text": [
      "Wall time: 28min 20s\n"
     ]
    },
    {
     "name": "stderr",
     "output_type": "stream",
     "text": [
      "C:\\ProgramData\\Anaconda3\\envs\\datasciencelab\\lib\\site-packages\\sklearn\\preprocessing\\label.py:151: DeprecationWarning: The truth value of an empty array is ambiguous. Returning False, but in future this will result in an error. Use `array.size > 0` to check that an array is not empty.\n",
      "  if diff:\n"
     ]
    }
   ],
   "source": [
    "%%time\n",
    "model4 = XGBClassifier(**params).fit(X_train, y_train)\n",
    "pred4 = model4.predict(X_test)"
   ]
  },
  {
   "cell_type": "code",
   "execution_count": 31,
   "metadata": {},
   "outputs": [
    {
     "name": "stdout",
     "output_type": "stream",
     "text": [
      "Model 4 XGboost Report: \n",
      "              precision    recall  f1-score   support\n",
      "\n",
      "      RW09L       0.94      0.99      0.96     17892\n",
      "      RW09R       0.62      0.23      0.34      1449\n",
      "      RW27L       0.94      0.94      0.94     23563\n",
      "      RW27R       0.94      0.94      0.94     23378\n",
      "\n",
      "avg / total       0.93      0.94      0.93     66282\n",
      " \n",
      "\n",
      "Predicted correctly: 62183/66282\n",
      "Accuracy for model 4: 93.82 %\n",
      "Error: 0.0618\n"
     ]
    }
   ],
   "source": [
    "# Calculate Obtained Error      \n",
    "acc = accuracy_score(y_test, pred4)\n",
    "print('Model 4 XGboost Report:','\\n', (classification_report(y_test, pred4)),'\\n')\n",
    "print('Predicted correctly: {0}/{1}'.format(correct_predictions_counter(y_test,pred4), len(pred4)))\n",
    "print(\"Accuracy for model 4: {0:.2f} %\".format(acc * 100)) \n",
    "print('Error: {0:.4f}'.format(1-acc))"
   ]
  },
  {
   "cell_type": "code",
   "execution_count": 32,
   "metadata": {},
   "outputs": [
    {
     "data": {
      "image/png": "[encoded data removed]",
      "text/plain": [
       "<Figure size 576x432 with 2 Axes>"
      ]
     },
     "metadata": {
      "needs_background": "light"
     },
     "output_type": "display_data"
    }
   ],
   "source": [
    "# Plot Confusion Matrix of classification Results\n",
    "plot_confusion_matrix(cm= confusion_matrix(y_test, pred4), \n",
    "                      normalize    = False,\n",
    "                      target_names = np.unique(y_test),\n",
    "                      title        = \"Confusion Matrix for XGB Classifier - Model4\")"
   ]
  },
  {
   "cell_type": "markdown",
   "metadata": {},
   "source": [
    "### Model 5:\n",
    "This model configuration has been implemented after the results of the grid search.\n",
    "- we want deep single trees with no more than 16 levels (`'max_depth':16`),\n",
    "- we want algorithm to learn slow and steadily (`'learning_rate':0.0075`)\n",
    "- we want to iterate 1000 rounds ( `'n_estimators'` :1000)\n",
    "- In every boosting iteration, randomly sample half of the training data prior to growing trees to prevent over-fitting (`'subsample':0.5`)\n",
    "- For understanding the sinificance of more parameters. __Refer__:https://www.analyticsvidhya.com/blog/2016/03/complete-guide-parameter-tuning-xgboost-with-codes-python/"
   ]
  },
  {
   "cell_type": "code",
   "execution_count": 33,
   "metadata": {},
   "outputs": [],
   "source": [
    "params = {\n",
    "    'objective': 'multi:softmax',\n",
    "    'silent': 1,\n",
    "    'max_depth': 16,\n",
    "    'learning_rate': 0.0075,    \n",
    "    'n_estimators': 1000,\n",
    "    'subsample': 0.5,\n",
    "    'min_child_weight': 6,\n",
    "    'gamma':0,    \n",
    "    'colsample_bytree':0.8,\n",
    "    'reg_alpha':0.005,    \n",
    "    'n_jobs':4,\n",
    "    'scale_pos_weight':1,\n",
    "    'random_state':42\n",
    "}"
   ]
  },
  {
   "cell_type": "code",
   "execution_count": 34,
   "metadata": {},
   "outputs": [
    {
     "name": "stdout",
     "output_type": "stream",
     "text": [
      "Wall time: 34min 38s\n"
     ]
    },
    {
     "name": "stderr",
     "output_type": "stream",
     "text": [
      "C:\\ProgramData\\Anaconda3\\envs\\datasciencelab\\lib\\site-packages\\sklearn\\preprocessing\\label.py:151: DeprecationWarning: The truth value of an empty array is ambiguous. Returning False, but in future this will result in an error. Use `array.size > 0` to check that an array is not empty.\n",
      "  if diff:\n"
     ]
    }
   ],
   "source": [
    "%%time\n",
    "model5 = XGBClassifier(**params).fit(X_train, y_train)\n",
    "pred5 = model5.predict(X_test)"
   ]
  },
  {
   "cell_type": "code",
   "execution_count": 35,
   "metadata": {},
   "outputs": [
    {
     "name": "stdout",
     "output_type": "stream",
     "text": [
      "Model 5 XGboost Report: \n",
      "              precision    recall  f1-score   support\n",
      "\n",
      "      RW09L       0.94      0.99      0.96     17892\n",
      "      RW09R       0.62      0.23      0.34      1449\n",
      "      RW27L       0.94      0.94      0.94     23563\n",
      "      RW27R       0.94      0.94      0.94     23378\n",
      "\n",
      "avg / total       0.94      0.94      0.94     66282\n",
      " \n",
      "\n",
      "Predicted correctly: 62331/66282\n",
      "Accuracy for model 5: 94.04 %\n",
      "Error: 0.0596\n"
     ]
    }
   ],
   "source": [
    "# Calculate Obtained Error      \n",
    "acc = accuracy_score(y_test, pred5)\n",
    "print('Model 5 XGboost Report:','\\n', (classification_report(y_test, pred5)),'\\n')\n",
    "print('Predicted correctly: {0}/{1}'.format(correct_predictions_counter(y_test,pred5), len(pred5)))\n",
    "print(\"Accuracy for model 5: {0:.2f} %\".format(acc * 100)) \n",
    "print('Error: {0:.4f}'.format(1-acc))"
   ]
  },
  {
   "cell_type": "code",
   "execution_count": 36,
   "metadata": {},
   "outputs": [
    {
     "data": {
      "image/png": "[encoded data removed]",
      "text/plain": [
       "<Figure size 576x432 with 2 Axes>"
      ]
     },
     "metadata": {
      "needs_background": "light"
     },
     "output_type": "display_data"
    }
   ],
   "source": [
    "# Plot Confusion Matrix of classification Results\n",
    "plot_confusion_matrix(cm= confusion_matrix(y_test, pred5), \n",
    "                      normalize    = False,\n",
    "                      target_names = np.unique(y_test),\n",
    "                      title        = \"Confusion Matrix for XGB Classifier - Model5\")"
   ]
  },
  {
   "cell_type": "markdown",
   "metadata": {},
   "source": [
    "### Notes:\n",
    "- Metric `roc_auc_score` is __not applicable__ for multi-class classification problem. It is applicable only for binary classification problems."
   ]
  },
  {
   "cell_type": "markdown",
   "metadata": {},
   "source": [
    "### Resources:\n",
    "- [Plotting Trees in XGBoost](https://machinelearningmastery.com/visualize-gradient-boosting-decision-trees-xgboost-python/)\n",
    "- [SciKit Learn - Plot Confusion Matrix](https://scikit-learn.org/stable/auto_examples/model_selection/plot_confusion_matrix.html)\n",
    "- [Complete Guide to Parameter Tuning in XGBoost](https://www.analyticsvidhya.com/blog/2016/03/complete-guide-parameter-tuning-xgboost-with-codes-python/)"
   ]
  },
  {
   "cell_type": "code",
   "execution_count": null,
   "metadata": {},
   "outputs": [],
   "source": []
  }
 ],
 "metadata": {
  "kernelspec": {
   "display_name": "Python 3",
   "language": "python",
   "name": "python3"
  },
  "language_info": {
   "codemirror_mode": {
    "name": "ipython",
    "version": 3
   },
   "file_extension": ".py",
   "mimetype": "text/x-python",
   "name": "python",
   "nbconvert_exporter": "python",
   "pygments_lexer": "ipython3",
   "version": "3.6.6"
  }
 },
 "nbformat": 4,
 "nbformat_minor": 2
}

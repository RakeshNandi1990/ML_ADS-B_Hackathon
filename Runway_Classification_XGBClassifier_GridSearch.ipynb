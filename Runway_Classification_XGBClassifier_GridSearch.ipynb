{
 "cells": [
  {
   "cell_type": "code",
   "execution_count": 1,
   "metadata": {},
   "outputs": [
    {
     "data": {
      "text/html": [
       "<style>.container { width:85% !important; }</style>"
      ],
      "text/plain": [
       "<IPython.core.display.HTML object>"
      ]
     },
     "metadata": {},
     "output_type": "display_data"
    }
   ],
   "source": [
    "from IPython.core.display import display, HTML\n",
    "display(HTML(\"<style>.container { width:85% !important; }</style>\"))\n",
    "import warnings\n",
    "warnings.filterwarnings('ignore')"
   ]
  },
  {
   "cell_type": "code",
   "execution_count": 2,
   "metadata": {},
   "outputs": [
    {
     "name": "stderr",
     "output_type": "stream",
     "text": [
      "C:\\ProgramData\\Anaconda3\\envs\\datasciencelab\\lib\\site-packages\\sklearn\\cross_validation.py:41: DeprecationWarning: This module was deprecated in version 0.18 in favor of the model_selection module into which all the refactored classes and functions are moved. Also note that the interface of the new CV iterators are different from that of this module. This module will be removed in 0.20.\n",
      "  \"This module will be removed in 0.20.\", DeprecationWarning)\n"
     ]
    }
   ],
   "source": [
    "import matplotlib.pyplot as plt\n",
    "from cmplotter import plot_confusion_matrix\n",
    "%matplotlib inline\n",
    "import numpy as np\n",
    "#Set some numpy print options for displaying numpy arrays to fit maximum width of cell\n",
    "np.set_printoptions(precision=8, edgeitems=30, linewidth=1000,formatter=dict(float=lambda x: \"%.8g\" % x))\n",
    "\n",
    "import pandas as pd\n",
    "from xgboost import XGBClassifier,plot_tree\n",
    "from sklearn import datasets\n",
    "from sklearn.linear_model import Ridge\n",
    "from sklearn.model_selection import train_test_split,GridSearchCV\n",
    "from sklearn.cross_validation import StratifiedShuffleSplit\n",
    "from sklearn.metrics import accuracy_score,classification_report,confusion_matrix\n",
    "from sklearn.preprocessing import LabelEncoder,label_binarize"
   ]
  },
  {
   "cell_type": "code",
   "execution_count": 3,
   "metadata": {},
   "outputs": [
    {
     "data": {
      "text/html": [
       "<div>\n",
       "<style scoped>\n",
       "    .dataframe tbody tr th:only-of-type {\n",
       "        vertical-align: middle;\n",
       "    }\n",
       "\n",
       "    .dataframe tbody tr th {\n",
       "        vertical-align: top;\n",
       "    }\n",
       "\n",
       "    .dataframe thead th {\n",
       "        text-align: right;\n",
       "    }\n",
       "</style>\n",
       "<table border=\"1\" class=\"dataframe\">\n",
       "  <thead>\n",
       "    <tr style=\"text-align: right;\">\n",
       "      <th></th>\n",
       "      <th>Landing_Time</th>\n",
       "      <th>hourofday</th>\n",
       "      <th>aircraft_registration</th>\n",
       "      <th>wind_direction_degrees</th>\n",
       "      <th>Wind_Speed_kt</th>\n",
       "      <th>Wind_And_Gust_kt</th>\n",
       "      <th>Landing_RVR_or_Vis_m</th>\n",
       "      <th>temperature_c</th>\n",
       "      <th>dew_point_c</th>\n",
       "      <th>relative_humidity</th>\n",
       "      <th>pressure_altimiter_in</th>\n",
       "      <th>RunwayTrueTrack</th>\n",
       "      <th>Landing_Visibilty_Class_RVR</th>\n",
       "      <th>present_weather_codes</th>\n",
       "      <th>Landing_RWY</th>\n",
       "    </tr>\n",
       "  </thead>\n",
       "  <tbody>\n",
       "    <tr>\n",
       "      <th>0</th>\n",
       "      <td>2016-01-01 04:34:38</td>\n",
       "      <td>4</td>\n",
       "      <td>GXLEJ</td>\n",
       "      <td>NaN</td>\n",
       "      <td>1.0</td>\n",
       "      <td>1.0</td>\n",
       "      <td>6000.0</td>\n",
       "      <td>2.0</td>\n",
       "      <td>1.0</td>\n",
       "      <td>93.08</td>\n",
       "      <td>30.21</td>\n",
       "      <td>89.713523</td>\n",
       "      <td>VMC</td>\n",
       "      <td>NaN</td>\n",
       "      <td>RW09R</td>\n",
       "    </tr>\n",
       "    <tr>\n",
       "      <th>1</th>\n",
       "      <td>2016-01-01 04:38:22</td>\n",
       "      <td>4</td>\n",
       "      <td>GSTBH</td>\n",
       "      <td>NaN</td>\n",
       "      <td>1.0</td>\n",
       "      <td>1.0</td>\n",
       "      <td>6000.0</td>\n",
       "      <td>2.0</td>\n",
       "      <td>1.0</td>\n",
       "      <td>93.08</td>\n",
       "      <td>30.21</td>\n",
       "      <td>89.713523</td>\n",
       "      <td>VMC</td>\n",
       "      <td>NaN</td>\n",
       "      <td>RW09R</td>\n",
       "    </tr>\n",
       "    <tr>\n",
       "      <th>2</th>\n",
       "      <td>2016-01-01 04:40:38</td>\n",
       "      <td>4</td>\n",
       "      <td>GCIVH</td>\n",
       "      <td>110.0</td>\n",
       "      <td>1.0</td>\n",
       "      <td>1.0</td>\n",
       "      <td>6000.0</td>\n",
       "      <td>2.0</td>\n",
       "      <td>1.0</td>\n",
       "      <td>93.08</td>\n",
       "      <td>30.21</td>\n",
       "      <td>89.713523</td>\n",
       "      <td>VMC</td>\n",
       "      <td>NaN</td>\n",
       "      <td>RW09R</td>\n",
       "    </tr>\n",
       "    <tr>\n",
       "      <th>3</th>\n",
       "      <td>2016-01-01 04:42:36</td>\n",
       "      <td>4</td>\n",
       "      <td>GVYUM</td>\n",
       "      <td>110.0</td>\n",
       "      <td>1.0</td>\n",
       "      <td>1.0</td>\n",
       "      <td>6000.0</td>\n",
       "      <td>2.0</td>\n",
       "      <td>1.0</td>\n",
       "      <td>93.08</td>\n",
       "      <td>30.21</td>\n",
       "      <td>89.713523</td>\n",
       "      <td>VMC</td>\n",
       "      <td>NaN</td>\n",
       "      <td>RW09R</td>\n",
       "    </tr>\n",
       "    <tr>\n",
       "      <th>4</th>\n",
       "      <td>2016-01-01 04:44:43</td>\n",
       "      <td>4</td>\n",
       "      <td>GBYGB</td>\n",
       "      <td>110.0</td>\n",
       "      <td>1.0</td>\n",
       "      <td>1.0</td>\n",
       "      <td>6000.0</td>\n",
       "      <td>2.0</td>\n",
       "      <td>1.0</td>\n",
       "      <td>93.08</td>\n",
       "      <td>30.21</td>\n",
       "      <td>89.713523</td>\n",
       "      <td>VMC</td>\n",
       "      <td>NaN</td>\n",
       "      <td>RW09R</td>\n",
       "    </tr>\n",
       "  </tbody>\n",
       "</table>\n",
       "</div>"
      ],
      "text/plain": [
       "         Landing_Time  hourofday aircraft_registration  \\\n",
       "0 2016-01-01 04:34:38          4                 GXLEJ   \n",
       "1 2016-01-01 04:38:22          4                 GSTBH   \n",
       "2 2016-01-01 04:40:38          4                 GCIVH   \n",
       "3 2016-01-01 04:42:36          4                 GVYUM   \n",
       "4 2016-01-01 04:44:43          4                 GBYGB   \n",
       "\n",
       "   wind_direction_degrees  Wind_Speed_kt  Wind_And_Gust_kt  \\\n",
       "0                     NaN            1.0               1.0   \n",
       "1                     NaN            1.0               1.0   \n",
       "2                   110.0            1.0               1.0   \n",
       "3                   110.0            1.0               1.0   \n",
       "4                   110.0            1.0               1.0   \n",
       "\n",
       "   Landing_RVR_or_Vis_m  temperature_c  dew_point_c  relative_humidity  \\\n",
       "0                6000.0            2.0          1.0              93.08   \n",
       "1                6000.0            2.0          1.0              93.08   \n",
       "2                6000.0            2.0          1.0              93.08   \n",
       "3                6000.0            2.0          1.0              93.08   \n",
       "4                6000.0            2.0          1.0              93.08   \n",
       "\n",
       "   pressure_altimiter_in  RunwayTrueTrack Landing_Visibilty_Class_RVR  \\\n",
       "0                  30.21        89.713523                         VMC   \n",
       "1                  30.21        89.713523                         VMC   \n",
       "2                  30.21        89.713523                         VMC   \n",
       "3                  30.21        89.713523                         VMC   \n",
       "4                  30.21        89.713523                         VMC   \n",
       "\n",
       "  present_weather_codes Landing_RWY  \n",
       "0                   NaN       RW09R  \n",
       "1                   NaN       RW09R  \n",
       "2                   NaN       RW09R  \n",
       "3                   NaN       RW09R  \n",
       "4                   NaN       RW09R  "
      ]
     },
     "execution_count": 3,
     "metadata": {},
     "output_type": "execute_result"
    }
   ],
   "source": [
    "#load Dataset\n",
    "data = pd.read_csv('data/2016_EGLL_Testdata_cleaned.csv', parse_dates = ['Landing_Time'], infer_datetime_format = True)\n",
    "data.head()"
   ]
  },
  {
   "cell_type": "code",
   "execution_count": 4,
   "metadata": {},
   "outputs": [
    {
     "name": "stdout",
     "output_type": "stream",
     "text": [
      "<class 'pandas.core.frame.DataFrame'>\n",
      "RangeIndex: 220940 entries, 0 to 220939\n",
      "Data columns (total 15 columns):\n",
      "Landing_Time                   220940 non-null datetime64[ns]\n",
      "hourofday                      220940 non-null int64\n",
      "aircraft_registration          220799 non-null object\n",
      "wind_direction_degrees         203226 non-null float64\n",
      "Wind_Speed_kt                  220940 non-null float64\n",
      "Wind_And_Gust_kt               220940 non-null float64\n",
      "Landing_RVR_or_Vis_m           220940 non-null float64\n",
      "temperature_c                  220940 non-null float64\n",
      "dew_point_c                    220940 non-null float64\n",
      "relative_humidity              220940 non-null float64\n",
      "pressure_altimiter_in          220940 non-null float64\n",
      "RunwayTrueTrack                220940 non-null float64\n",
      "Landing_Visibilty_Class_RVR    220940 non-null object\n",
      "present_weather_codes          33015 non-null object\n",
      "Landing_RWY                    220940 non-null object\n",
      "dtypes: datetime64[ns](1), float64(9), int64(1), object(4)\n",
      "memory usage: 25.3+ MB\n"
     ]
    }
   ],
   "source": [
    "data.info()"
   ]
  },
  {
   "cell_type": "code",
   "execution_count": 5,
   "metadata": {},
   "outputs": [],
   "source": [
    "# One-Hot Encoding Categorical Variables pertaining to Visibility and Weather conditions which are interesting features\n",
    "data = pd.get_dummies(data, columns=['Landing_Visibilty_Class_RVR', 'present_weather_codes'])\n",
    "# Dropping Categorical variables which are not going to be used by the GBM model\n",
    "data.drop(columns=['Landing_Time', 'aircraft_registration'],inplace = True)"
   ]
  },
  {
   "cell_type": "code",
   "execution_count": 6,
   "metadata": {},
   "outputs": [
    {
     "name": "stdout",
     "output_type": "stream",
     "text": [
      "<class 'pandas.core.frame.DataFrame'>\n",
      "RangeIndex: 220940 entries, 0 to 220939\n",
      "Data columns (total 65 columns):\n",
      "hourofday                                   220940 non-null int64\n",
      "wind_direction_degrees                      203226 non-null float64\n",
      "Wind_Speed_kt                               220940 non-null float64\n",
      "Wind_And_Gust_kt                            220940 non-null float64\n",
      "Landing_RVR_or_Vis_m                        220940 non-null float64\n",
      "temperature_c                               220940 non-null float64\n",
      "dew_point_c                                 220940 non-null float64\n",
      "relative_humidity                           220940 non-null float64\n",
      "pressure_altimiter_in                       220940 non-null float64\n",
      "RunwayTrueTrack                             220940 non-null float64\n",
      "Landing_RWY                                 220940 non-null object\n",
      "Landing_Visibilty_Class_RVR_CAT1            220940 non-null uint8\n",
      "Landing_Visibilty_Class_RVR_CAT2            220940 non-null uint8\n",
      "Landing_Visibilty_Class_RVR_CAT3            220940 non-null uint8\n",
      "Landing_Visibilty_Class_RVR_Marginal VMC    220940 non-null uint8\n",
      "Landing_Visibilty_Class_RVR_VMC             220940 non-null uint8\n",
      "present_weather_codes_+RA                   220940 non-null uint8\n",
      "present_weather_codes_+RA VCTS              220940 non-null uint8\n",
      "present_weather_codes_+SHRA                 220940 non-null uint8\n",
      "present_weather_codes_-DZ                   220940 non-null uint8\n",
      "present_weather_codes_-DZ BR                220940 non-null uint8\n",
      "present_weather_codes_-DZ FG                220940 non-null uint8\n",
      "present_weather_codes_-RA                   220940 non-null uint8\n",
      "present_weather_codes_-RA VCTS              220940 non-null uint8\n",
      "present_weather_codes_-RADZ                 220940 non-null uint8\n",
      "present_weather_codes_-RADZ BR              220940 non-null uint8\n",
      "present_weather_codes_-RADZ FG              220940 non-null uint8\n",
      "present_weather_codes_-RADZ HZ              220940 non-null uint8\n",
      "present_weather_codes_-SHRA                 220940 non-null uint8\n",
      "present_weather_codes_-SHRA TS              220940 non-null uint8\n",
      "present_weather_codes_-SHRA VCTS            220940 non-null uint8\n",
      "present_weather_codes_-SHRASN               220940 non-null uint8\n",
      "present_weather_codes_-SN                   220940 non-null uint8\n",
      "present_weather_codes_-TSRA                 220940 non-null uint8\n",
      "present_weather_codes_//////                220940 non-null uint8\n",
      "present_weather_codes_BCFG                  220940 non-null uint8\n",
      "present_weather_codes_BR                    220940 non-null uint8\n",
      "present_weather_codes_BR BCFG               220940 non-null uint8\n",
      "present_weather_codes_BR MIFG               220940 non-null uint8\n",
      "present_weather_codes_BR PRFG               220940 non-null uint8\n",
      "present_weather_codes_BR VCFG               220940 non-null uint8\n",
      "present_weather_codes_BR VCTS               220940 non-null uint8\n",
      "present_weather_codes_DZ                    220940 non-null uint8\n",
      "present_weather_codes_FG                    220940 non-null uint8\n",
      "present_weather_codes_FZFG                  220940 non-null uint8\n",
      "present_weather_codes_HZ                    220940 non-null uint8\n",
      "present_weather_codes_MIFG                  220940 non-null uint8\n",
      "present_weather_codes_MIFG BR               220940 non-null uint8\n",
      "present_weather_codes_PRFG                  220940 non-null uint8\n",
      "present_weather_codes_PRFG VCFG             220940 non-null uint8\n",
      "present_weather_codes_RA                    220940 non-null uint8\n",
      "present_weather_codes_RA HZ                 220940 non-null uint8\n",
      "present_weather_codes_RADZ                  220940 non-null uint8\n",
      "present_weather_codes_RADZ FG               220940 non-null uint8\n",
      "present_weather_codes_SG                    220940 non-null uint8\n",
      "present_weather_codes_SHRA                  220940 non-null uint8\n",
      "present_weather_codes_SHRA HZ               220940 non-null uint8\n",
      "present_weather_codes_SHRA VCTS             220940 non-null uint8\n",
      "present_weather_codes_TS                    220940 non-null uint8\n",
      "present_weather_codes_TSRA                  220940 non-null uint8\n",
      "present_weather_codes_VCFG                  220940 non-null uint8\n",
      "present_weather_codes_VCSH                  220940 non-null uint8\n",
      "present_weather_codes_VCTS                  220940 non-null uint8\n",
      "present_weather_codes_VCTS -SHRA            220940 non-null uint8\n",
      "present_weather_codes_VCTS VCSH             220940 non-null uint8\n",
      "dtypes: float64(9), int64(1), object(1), uint8(54)\n",
      "memory usage: 29.9+ MB\n"
     ]
    }
   ],
   "source": [
    "data.info()"
   ]
  },
  {
   "cell_type": "code",
   "execution_count": 7,
   "metadata": {},
   "outputs": [],
   "source": [
    "input_features = data.copy()\n",
    "X_data = input_features.drop('Landing_RWY', axis=1)\n",
    "y = data.Landing_RWY.values"
   ]
  },
  {
   "cell_type": "code",
   "execution_count": 8,
   "metadata": {},
   "outputs": [
    {
     "data": {
      "text/html": [
       "<div>\n",
       "<style scoped>\n",
       "    .dataframe tbody tr th:only-of-type {\n",
       "        vertical-align: middle;\n",
       "    }\n",
       "\n",
       "    .dataframe tbody tr th {\n",
       "        vertical-align: top;\n",
       "    }\n",
       "\n",
       "    .dataframe thead th {\n",
       "        text-align: right;\n",
       "    }\n",
       "</style>\n",
       "<table border=\"1\" class=\"dataframe\">\n",
       "  <thead>\n",
       "    <tr style=\"text-align: right;\">\n",
       "      <th></th>\n",
       "      <th>hourofday</th>\n",
       "      <th>wind_direction_degrees</th>\n",
       "      <th>Wind_Speed_kt</th>\n",
       "      <th>Wind_And_Gust_kt</th>\n",
       "      <th>Landing_RVR_or_Vis_m</th>\n",
       "      <th>temperature_c</th>\n",
       "      <th>dew_point_c</th>\n",
       "      <th>relative_humidity</th>\n",
       "      <th>pressure_altimiter_in</th>\n",
       "      <th>RunwayTrueTrack</th>\n",
       "      <th>...</th>\n",
       "      <th>present_weather_codes_SHRA</th>\n",
       "      <th>present_weather_codes_SHRA HZ</th>\n",
       "      <th>present_weather_codes_SHRA VCTS</th>\n",
       "      <th>present_weather_codes_TS</th>\n",
       "      <th>present_weather_codes_TSRA</th>\n",
       "      <th>present_weather_codes_VCFG</th>\n",
       "      <th>present_weather_codes_VCSH</th>\n",
       "      <th>present_weather_codes_VCTS</th>\n",
       "      <th>present_weather_codes_VCTS -SHRA</th>\n",
       "      <th>present_weather_codes_VCTS VCSH</th>\n",
       "    </tr>\n",
       "  </thead>\n",
       "  <tbody>\n",
       "    <tr>\n",
       "      <th>0</th>\n",
       "      <td>4</td>\n",
       "      <td>NaN</td>\n",
       "      <td>1.0</td>\n",
       "      <td>1.0</td>\n",
       "      <td>6000.0</td>\n",
       "      <td>2.0</td>\n",
       "      <td>1.0</td>\n",
       "      <td>93.08</td>\n",
       "      <td>30.21</td>\n",
       "      <td>89.713523</td>\n",
       "      <td>...</td>\n",
       "      <td>0</td>\n",
       "      <td>0</td>\n",
       "      <td>0</td>\n",
       "      <td>0</td>\n",
       "      <td>0</td>\n",
       "      <td>0</td>\n",
       "      <td>0</td>\n",
       "      <td>0</td>\n",
       "      <td>0</td>\n",
       "      <td>0</td>\n",
       "    </tr>\n",
       "    <tr>\n",
       "      <th>1</th>\n",
       "      <td>4</td>\n",
       "      <td>NaN</td>\n",
       "      <td>1.0</td>\n",
       "      <td>1.0</td>\n",
       "      <td>6000.0</td>\n",
       "      <td>2.0</td>\n",
       "      <td>1.0</td>\n",
       "      <td>93.08</td>\n",
       "      <td>30.21</td>\n",
       "      <td>89.713523</td>\n",
       "      <td>...</td>\n",
       "      <td>0</td>\n",
       "      <td>0</td>\n",
       "      <td>0</td>\n",
       "      <td>0</td>\n",
       "      <td>0</td>\n",
       "      <td>0</td>\n",
       "      <td>0</td>\n",
       "      <td>0</td>\n",
       "      <td>0</td>\n",
       "      <td>0</td>\n",
       "    </tr>\n",
       "    <tr>\n",
       "      <th>2</th>\n",
       "      <td>4</td>\n",
       "      <td>110.0</td>\n",
       "      <td>1.0</td>\n",
       "      <td>1.0</td>\n",
       "      <td>6000.0</td>\n",
       "      <td>2.0</td>\n",
       "      <td>1.0</td>\n",
       "      <td>93.08</td>\n",
       "      <td>30.21</td>\n",
       "      <td>89.713523</td>\n",
       "      <td>...</td>\n",
       "      <td>0</td>\n",
       "      <td>0</td>\n",
       "      <td>0</td>\n",
       "      <td>0</td>\n",
       "      <td>0</td>\n",
       "      <td>0</td>\n",
       "      <td>0</td>\n",
       "      <td>0</td>\n",
       "      <td>0</td>\n",
       "      <td>0</td>\n",
       "    </tr>\n",
       "    <tr>\n",
       "      <th>3</th>\n",
       "      <td>4</td>\n",
       "      <td>110.0</td>\n",
       "      <td>1.0</td>\n",
       "      <td>1.0</td>\n",
       "      <td>6000.0</td>\n",
       "      <td>2.0</td>\n",
       "      <td>1.0</td>\n",
       "      <td>93.08</td>\n",
       "      <td>30.21</td>\n",
       "      <td>89.713523</td>\n",
       "      <td>...</td>\n",
       "      <td>0</td>\n",
       "      <td>0</td>\n",
       "      <td>0</td>\n",
       "      <td>0</td>\n",
       "      <td>0</td>\n",
       "      <td>0</td>\n",
       "      <td>0</td>\n",
       "      <td>0</td>\n",
       "      <td>0</td>\n",
       "      <td>0</td>\n",
       "    </tr>\n",
       "    <tr>\n",
       "      <th>4</th>\n",
       "      <td>4</td>\n",
       "      <td>110.0</td>\n",
       "      <td>1.0</td>\n",
       "      <td>1.0</td>\n",
       "      <td>6000.0</td>\n",
       "      <td>2.0</td>\n",
       "      <td>1.0</td>\n",
       "      <td>93.08</td>\n",
       "      <td>30.21</td>\n",
       "      <td>89.713523</td>\n",
       "      <td>...</td>\n",
       "      <td>0</td>\n",
       "      <td>0</td>\n",
       "      <td>0</td>\n",
       "      <td>0</td>\n",
       "      <td>0</td>\n",
       "      <td>0</td>\n",
       "      <td>0</td>\n",
       "      <td>0</td>\n",
       "      <td>0</td>\n",
       "      <td>0</td>\n",
       "    </tr>\n",
       "  </tbody>\n",
       "</table>\n",
       "<p>5 rows × 64 columns</p>\n",
       "</div>"
      ],
      "text/plain": [
       "   hourofday  wind_direction_degrees  Wind_Speed_kt  Wind_And_Gust_kt  \\\n",
       "0          4                     NaN            1.0               1.0   \n",
       "1          4                     NaN            1.0               1.0   \n",
       "2          4                   110.0            1.0               1.0   \n",
       "3          4                   110.0            1.0               1.0   \n",
       "4          4                   110.0            1.0               1.0   \n",
       "\n",
       "   Landing_RVR_or_Vis_m  temperature_c  dew_point_c  relative_humidity  \\\n",
       "0                6000.0            2.0          1.0              93.08   \n",
       "1                6000.0            2.0          1.0              93.08   \n",
       "2                6000.0            2.0          1.0              93.08   \n",
       "3                6000.0            2.0          1.0              93.08   \n",
       "4                6000.0            2.0          1.0              93.08   \n",
       "\n",
       "   pressure_altimiter_in  RunwayTrueTrack               ...                 \\\n",
       "0                  30.21        89.713523               ...                  \n",
       "1                  30.21        89.713523               ...                  \n",
       "2                  30.21        89.713523               ...                  \n",
       "3                  30.21        89.713523               ...                  \n",
       "4                  30.21        89.713523               ...                  \n",
       "\n",
       "   present_weather_codes_SHRA  present_weather_codes_SHRA HZ  \\\n",
       "0                           0                              0   \n",
       "1                           0                              0   \n",
       "2                           0                              0   \n",
       "3                           0                              0   \n",
       "4                           0                              0   \n",
       "\n",
       "   present_weather_codes_SHRA VCTS  present_weather_codes_TS  \\\n",
       "0                                0                         0   \n",
       "1                                0                         0   \n",
       "2                                0                         0   \n",
       "3                                0                         0   \n",
       "4                                0                         0   \n",
       "\n",
       "   present_weather_codes_TSRA  present_weather_codes_VCFG  \\\n",
       "0                           0                           0   \n",
       "1                           0                           0   \n",
       "2                           0                           0   \n",
       "3                           0                           0   \n",
       "4                           0                           0   \n",
       "\n",
       "   present_weather_codes_VCSH  present_weather_codes_VCTS  \\\n",
       "0                           0                           0   \n",
       "1                           0                           0   \n",
       "2                           0                           0   \n",
       "3                           0                           0   \n",
       "4                           0                           0   \n",
       "\n",
       "   present_weather_codes_VCTS -SHRA  present_weather_codes_VCTS VCSH  \n",
       "0                                 0                                0  \n",
       "1                                 0                                0  \n",
       "2                                 0                                0  \n",
       "3                                 0                                0  \n",
       "4                                 0                                0  \n",
       "\n",
       "[5 rows x 64 columns]"
      ]
     },
     "execution_count": 8,
     "metadata": {},
     "output_type": "execute_result"
    }
   ],
   "source": [
    "X_data.head()"
   ]
  },
  {
   "cell_type": "code",
   "execution_count": 9,
   "metadata": {},
   "outputs": [
    {
     "name": "stdout",
     "output_type": "stream",
     "text": [
      "No. of Classes in the output: 4 and the classes are: ['RW09L' 'RW09R' 'RW27L' 'RW27R']\n"
     ]
    }
   ],
   "source": [
    "# Number of unique values Ytrn\n",
    "n_classes = len(np.unique(y))\n",
    "print('No. of Classes in the output:',n_classes,'and the classes are:',np.unique(y))"
   ]
  },
  {
   "cell_type": "code",
   "execution_count": 10,
   "metadata": {},
   "outputs": [
    {
     "name": "stdout",
     "output_type": "stream",
     "text": [
      "Encoded-Y: [1 1 1 1 1 1 1 1 1 1 1 1 1 1 1 1 1 0 1 0 1 0 1 0 1 0 1 0 1 0 ... 2 2 2 2 2 2 2 2 2 2 2 2 2 2 2 2 2 2 2 2 2 2 2 2 2 2 2 2 2 2]\n"
     ]
    }
   ],
   "source": [
    "## One Hot Encode categorical variable output converting the class labels to integers\n",
    "encoder = LabelEncoder()\n",
    "encoded_y = encoder.fit_transform(y)\n",
    "print('Encoded-Y:',encoded_y)"
   ]
  },
  {
   "cell_type": "code",
   "execution_count": 11,
   "metadata": {},
   "outputs": [],
   "source": [
    "## Convert class labels to binary representation for each of the four classes such as [0 1 0 0], [1 0 0 0], [0 0 1 0] and [0 0 0 1]\n",
    "# y_bin_enc = label_binarize(y, classes=['RW09L','RW09R','RW27L','RW27R'])\n",
    "# print('Output-Y:',y_bin_enc)"
   ]
  },
  {
   "cell_type": "code",
   "execution_count": 12,
   "metadata": {},
   "outputs": [],
   "source": [
    "#Split the dataset into train and Test\n",
    "seed = 42\n",
    "test_size = 0.3\n",
    "X_train, X_test, y_train, y_test = train_test_split(X_data, y, test_size=test_size, random_state=seed)"
   ]
  },
  {
   "cell_type": "code",
   "execution_count": 13,
   "metadata": {},
   "outputs": [
    {
     "name": "stdout",
     "output_type": "stream",
     "text": [
      "Train dataset contains 154658 rows and 64 columns\n",
      "Test dataset contains 66282 rows and 64 columns\n"
     ]
    }
   ],
   "source": [
    "# Sanity Check\n",
    "print(\"Train dataset contains {0} rows and {1} columns\".format(X_train.shape[0], X_train.shape[1]))\n",
    "print(\"Test dataset contains {0} rows and {1} columns\".format(X_test.shape[0], X_test.shape[1]))"
   ]
  },
  {
   "cell_type": "code",
   "execution_count": 14,
   "metadata": {},
   "outputs": [
    {
     "name": "stdout",
     "output_type": "stream",
     "text": [
      "Train possible labels: \n",
      "['RW09L' 'RW09R' 'RW27L' 'RW27R']\n",
      "\n",
      "Test possible labels: \n",
      "['RW09L' 'RW09R' 'RW27L' 'RW27R']\n"
     ]
    }
   ],
   "source": [
    "print(\"Train possible labels: \")\n",
    "print(np.unique(y_train))\n",
    "\n",
    "print(\"\\nTest possible labels: \")\n",
    "print(np.unique(y_test))"
   ]
  },
  {
   "cell_type": "code",
   "execution_count": 15,
   "metadata": {},
   "outputs": [],
   "source": [
    "def correct_predictions_counter(y_test,y_pred):\n",
    "    '''Takes in the predictions of a model output and returns the no. of correct predictions.\n",
    "    Arguments: y_test, y_pred'''\n",
    "    correct = 0\n",
    "    for i in range(len(y_pred)):\n",
    "        if (y_test[i] == y_pred[i]):\n",
    "            correct += 1\n",
    "    return correct"
   ]
  },
  {
   "cell_type": "markdown",
   "metadata": {},
   "source": [
    "## Training Classifier"
   ]
  },
  {
   "cell_type": "markdown",
   "metadata": {},
   "source": [
    "### Using Grid Search for HyperParameter Tuning"
   ]
  },
  {
   "cell_type": "code",
   "execution_count": 16,
   "metadata": {},
   "outputs": [],
   "source": [
    "# Parameters for the XGB Classifier used as estimator in the GridSearch\n",
    "params_xgbclassifier = {\n",
    "    'objective': 'multi:softmax',    \n",
    "    'silent': 1,\n",
    "    'num_class': n_classes\n",
    "}\n",
    "\n",
    "# Parameters for the Grid Search\n",
    "params_gridsearch = { \n",
    "    'max_depth':[8,16],\n",
    "    'n_estimators':[500,1000],\n",
    "    'learning_rate': [0.01,0.0075],\n",
    "    'subsample': [0.5,0.75]\n",
    "}\n",
    "\n",
    "fit_params = {'eval_metric': 'mlogloss',\n",
    "              'early_stopping_rounds': 10,\n",
    "              'verbose': False,\n",
    "              'eval_set': [(X_test, y_test)]              \n",
    "             }\n",
    "\n",
    "# Specify Cross Validation Strategy\n",
    "cv = StratifiedShuffleSplit(y_train, n_iter=5, test_size=0.3, random_state=42)"
   ]
  },
  {
   "cell_type": "code",
   "execution_count": 17,
   "metadata": {},
   "outputs": [],
   "source": [
    "# Use one hot encoded output for the train-test split\n",
    "X_train, X_test, y_train, y_test = train_test_split(X_data, y, test_size=test_size, random_state=42)\n",
    "\n",
    "# gsearch = GridSearchCV(estimator = XGBClassifier(**params), param_grid = param_test, scoring='f1_weighted',n_jobs=4,iid=False, cv=cv)\n",
    "gsearch = GridSearchCV(estimator = XGBClassifier(**params_xgbclassifier), param_grid = params_gridsearch, scoring='accuracy', n_jobs=4, iid=False, cv=cv)"
   ]
  },
  {
   "cell_type": "code",
   "execution_count": 18,
   "metadata": {},
   "outputs": [
    {
     "name": "stdout",
     "output_type": "stream",
     "text": [
      "Grid search..\n"
     ]
    },
    {
     "name": "stderr",
     "output_type": "stream",
     "text": [
      "C:\\ProgramData\\Anaconda3\\envs\\datasciencelab\\lib\\site-packages\\sklearn\\preprocessing\\label.py:151: DeprecationWarning: The truth value of an empty array is ambiguous. Returning False, but in future this will result in an error. Use `array.size > 0` to check that an array is not empty.\n",
      "  if diff:\n"
     ]
    },
    {
     "name": "stdout",
     "output_type": "stream",
     "text": [
      "Grid Search time: 112631.91185426712\n",
      "Wall time: 1d 7h 17min 12s\n"
     ]
    }
   ],
   "source": [
    "%%time\n",
    "import time\n",
    "print(\"Grid search..\")\n",
    "search_time_start = time.time()\n",
    "train_model_gs = gsearch.fit(X_train, y_train,**fit_params)\n",
    "pred_gs = train_model_gs.predict(X_test)\n",
    "print(\"Grid Search time:\", time.time() - search_time_start)"
   ]
  },
  {
   "cell_type": "code",
   "execution_count": 19,
   "metadata": {},
   "outputs": [
    {
     "data": {
      "image/png": "[encoded data removed]",
      "text/plain": [
       "<Figure size 576x432 with 2 Axes>"
      ]
     },
     "metadata": {
      "needs_background": "light"
     },
     "output_type": "display_data"
    }
   ],
   "source": [
    "# Plot Confusion Matrix of classification Results\n",
    "plot_confusion_matrix(cm= confusion_matrix(y_test, pred_gs), \n",
    "                      normalize    = False,\n",
    "                      target_names = np.unique(y_test),\n",
    "                      title        = \"Confusion Matrix for Grid Searched XGB Classifier\")"
   ]
  },
  {
   "cell_type": "code",
   "execution_count": 20,
   "metadata": {},
   "outputs": [
    {
     "name": "stdout",
     "output_type": "stream",
     "text": [
      "GridSearchCV(cv=StratifiedShuffleSplit(labels=['RW27R' 'RW09L' ... 'RW27R' 'RW27R'], n_iter=5, test_size=0.3, random_state=42),\n",
      "       error_score='raise',\n",
      "       estimator=XGBClassifier(base_score=0.5, booster='gbtree', colsample_bylevel=1,\n",
      "       colsample_bytree=1, gamma=0, learning_rate=0.1, max_delta_step=0,\n",
      "       max_depth=3, min_child_weight=1, missing=None, n_estimators=100,\n",
      "       n_jobs=1, nthread=None, num_class=4, objective='multi:softmax',\n",
      "       random_state=0, reg_alpha=0, reg_lambda=1, scale_pos_weight=1,\n",
      "       seed=None, silent=1, subsample=1),\n",
      "       fit_params=None, iid=False, n_jobs=4,\n",
      "       param_grid={'max_depth': [8, 16], 'n_estimators': [500, 1000], 'learning_rate': [0.01, 0.0075], 'subsample': [0.5, 0.75]},\n",
      "       pre_dispatch='2*n_jobs', refit=True, return_train_score='warn',\n",
      "       scoring='accuracy', verbose=0)\n"
     ]
    }
   ],
   "source": [
    "#Print the results of the grid search\n",
    "print(gsearch)"
   ]
  },
  {
   "cell_type": "code",
   "execution_count": 21,
   "metadata": {},
   "outputs": [
    {
     "name": "stdout",
     "output_type": "stream",
     "text": [
      "\n",
      " Best Score: 0.9400318979266347\n"
     ]
    }
   ],
   "source": [
    "# Print the best score of the grid search\n",
    "print('\\n Best Score:',gsearch.best_score_)"
   ]
  },
  {
   "cell_type": "code",
   "execution_count": 22,
   "metadata": {},
   "outputs": [
    {
     "name": "stdout",
     "output_type": "stream",
     "text": [
      "Best score: 0.9400318979266347\n",
      "Best params: \n",
      "learning_rate: 0.0075\n",
      "max_depth: 16\n",
      "n_estimators: 1000\n",
      "subsample: 0.5\n"
     ]
    }
   ],
   "source": [
    "best_score = train_model_gs.best_score_\n",
    "best_params = train_model_gs.best_params_\n",
    "print(\"Best score: {}\".format(best_score))\n",
    "print(\"Best params: \")\n",
    "for param_name in sorted(best_params.keys()):\n",
    "    print('%s: %r' % (param_name, best_params[param_name]))"
   ]
  },
  {
   "cell_type": "code",
   "execution_count": 23,
   "metadata": {},
   "outputs": [
    {
     "name": "stdout",
     "output_type": "stream",
     "text": [
      "Predicted correctly: 62342/66282\n",
      "Accuracy for model 3: 94.06 %\n",
      "Error: 0.0594\n"
     ]
    }
   ],
   "source": [
    "# Calculate Obtained Error\n",
    "print('Predicted correctly: {0}/{1}'.format(correct_predictions_counter(y_test, pred_gs), len(pred_gs)))\n",
    "print(\"Accuracy for best grid searched model : %.2f\" % (accuracy_score(y_test, pred_gs) * 100),'%')\n",
    "print('Error: {0:.4f}'.format(1-(accuracy_score(y_test, pred_gs))))"
   ]
  },
  {
   "cell_type": "code",
   "execution_count": 24,
   "metadata": {},
   "outputs": [
    {
     "name": "stdout",
     "output_type": "stream",
     "text": [
      "Best: 0.940032 using {'learning_rate': 0.0075, 'max_depth': 16, 'n_estimators': 1000, 'subsample': 0.5} \n",
      "\n",
      "TestScore_Mean: 0.868068 and Std_Dev: (0.001662) with Parameters: {'learning_rate': 0.01, 'max_depth': 8, 'n_estimators': 500, 'subsample': 0.5}\n",
      "TestScore_Mean: 0.858873 and Std_Dev: (0.000994) with Parameters: {'learning_rate': 0.01, 'max_depth': 8, 'n_estimators': 500, 'subsample': 0.75}\n",
      "TestScore_Mean: 0.898203 and Std_Dev: (0.002377) with Parameters: {'learning_rate': 0.01, 'max_depth': 8, 'n_estimators': 1000, 'subsample': 0.5}\n",
      "TestScore_Mean: 0.890344 and Std_Dev: (0.002291) with Parameters: {'learning_rate': 0.01, 'max_depth': 8, 'n_estimators': 1000, 'subsample': 0.75}\n",
      "TestScore_Mean: 0.939691 and Std_Dev: (0.000972) with Parameters: {'learning_rate': 0.01, 'max_depth': 16, 'n_estimators': 500, 'subsample': 0.5}\n",
      "TestScore_Mean: 0.939847 and Std_Dev: (0.000951) with Parameters: {'learning_rate': 0.01, 'max_depth': 16, 'n_estimators': 500, 'subsample': 0.75}\n",
      "TestScore_Mean: 0.939799 and Std_Dev: (0.000995) with Parameters: {'learning_rate': 0.01, 'max_depth': 16, 'n_estimators': 1000, 'subsample': 0.5}\n",
      "TestScore_Mean: 0.939825 and Std_Dev: (0.001042) with Parameters: {'learning_rate': 0.01, 'max_depth': 16, 'n_estimators': 1000, 'subsample': 0.75}\n",
      "TestScore_Mean: 0.856278 and Std_Dev: (0.001861) with Parameters: {'learning_rate': 0.0075, 'max_depth': 8, 'n_estimators': 500, 'subsample': 0.5}\n",
      "TestScore_Mean: 0.848127 and Std_Dev: (0.001007) with Parameters: {'learning_rate': 0.0075, 'max_depth': 8, 'n_estimators': 500, 'subsample': 0.75}\n",
      "TestScore_Mean: 0.887284 and Std_Dev: (0.002110) with Parameters: {'learning_rate': 0.0075, 'max_depth': 8, 'n_estimators': 1000, 'subsample': 0.5}\n",
      "TestScore_Mean: 0.877236 and Std_Dev: (0.002363) with Parameters: {'learning_rate': 0.0075, 'max_depth': 8, 'n_estimators': 1000, 'subsample': 0.75}\n",
      "TestScore_Mean: 0.939256 and Std_Dev: (0.000756) with Parameters: {'learning_rate': 0.0075, 'max_depth': 16, 'n_estimators': 500, 'subsample': 0.5}\n",
      "TestScore_Mean: 0.939079 and Std_Dev: (0.000967) with Parameters: {'learning_rate': 0.0075, 'max_depth': 16, 'n_estimators': 500, 'subsample': 0.75}\n",
      "TestScore_Mean: 0.940032 and Std_Dev: (0.000982) with Parameters: {'learning_rate': 0.0075, 'max_depth': 16, 'n_estimators': 1000, 'subsample': 0.5}\n",
      "TestScore_Mean: 0.939976 and Std_Dev: (0.001102) with Parameters: {'learning_rate': 0.0075, 'max_depth': 16, 'n_estimators': 1000, 'subsample': 0.75}\n"
     ]
    }
   ],
   "source": [
    "# summarize results\n",
    "print(\"Best: %f using %s\" % (train_model_gs.best_score_, train_model_gs.best_params_),'\\n')\n",
    "means = train_model_gs.cv_results_['mean_test_score']\n",
    "stds = train_model_gs.cv_results_['std_test_score']\n",
    "params = train_model_gs.cv_results_['params']\n",
    "for mean, stdev, param in zip(means, stds, params):\n",
    "    print(\"TestScore_Mean: %f and Std_Dev: (%f) with Parameters: %r\" % (mean, stdev, param))"
   ]
  },
  {
   "cell_type": "markdown",
   "metadata": {},
   "source": [
    "### Notes:\n",
    "- Specifying `num_class` parameter for multiclass grid search seems to be [optional](https://stackoverflow.com/questions/39386966/multiclass-classification-in-xgboost-python) as there is no difference in accuracy score.\n",
    "- In grid-search using `scoring = f1` gives error as it is meant for binary classification. Need to use appropriate [scoring metric](http://scikit-learn.org/stable/modules/model_evaluation.html#scoring-parameter) such as `f1_weighted` for multi-class classification.\n",
    "- Using `scoring = f1_samples` with non encoded raw **y** gives error as f-score is not meaningful outside multilabel classification. we have to use numerically encoded y for each class (eg: 1,2,3,4 ). `f1_weighted` and `accuracy` can handle raw *y* ."
   ]
  },
  {
   "cell_type": "markdown",
   "metadata": {},
   "source": [
    "### Resources:\n",
    "- https://www.kaggle.com/dkim1992/grid-search-vs-random-search"
   ]
  },
  {
   "cell_type": "code",
   "execution_count": null,
   "metadata": {},
   "outputs": [],
   "source": []
  }
 ],
 "metadata": {
  "kernelspec": {
   "display_name": "Python 3",
   "language": "python",
   "name": "python3"
  },
  "language_info": {
   "codemirror_mode": {
    "name": "ipython",
    "version": 3
   },
   "file_extension": ".py",
   "mimetype": "text/x-python",
   "name": "python",
   "nbconvert_exporter": "python",
   "pygments_lexer": "ipython3",
   "version": "3.6.6"
  }
 },
 "nbformat": 4,
 "nbformat_minor": 2
}
